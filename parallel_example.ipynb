{
 "cells": [
  {
   "cell_type": "code",
   "execution_count": 6,
   "id": "a3ea68f3-6cce-4dab-8525-6409e141e3eb",
   "metadata": {},
   "outputs": [
    {
     "name": "stdout",
     "output_type": "stream",
     "text": [
      "Execution time 16.199838876724243 s using 4 cpus\n"
     ]
    }
   ],
   "source": [
    "# simple example to show how to perform parallel computing.\n",
    "# change the function def below.\n",
    "# change the name of the function in the with context manager\n",
    "# containing the loop calling the function.\n",
    "# prints time for execution.\n",
    "import time\n",
    "import os\n",
    "import multiprocessing\n",
    "from joblib import delayed, Parallel ,parallel_backend\n",
    "\n",
    "# the function needed to parallelize    \n",
    "def function_name(i):\n",
    "    time.sleep(2)\n",
    "    return\n",
    "\n",
    "t0 = time.time()\n",
    "\n",
    "# the with context manager containing loop\n",
    "with parallel_backend('multiprocessing'):\n",
    "    output = Parallel(n_jobs=-1)(delayed(function_name)(i) for i in range(30))\n",
    "\n",
    "t1 = time.time()\n",
    "\n",
    "print(f'Execution time {t1 - t0} s using 4 cpus')"
   ]
  },
  {
   "cell_type": "code",
   "execution_count": 7,
   "id": "788f9961-6b9c-4075-9cda-8f23caf899fb",
   "metadata": {},
   "outputs": [
    {
     "name": "stdout",
     "output_type": "stream",
     "text": [
      "Execution time 60.058899879455566 s using 1 cpu\n"
     ]
    }
   ],
   "source": [
    "# simple example to show how to perform serial computing.\n",
    "# this illustrates the number of cpus being 1 is slower than \n",
    "# the above example using parallel computing.\n",
    "# prints time for execution.\n",
    "import time\n",
    "import os\n",
    "import multiprocessing\n",
    "from joblib import delayed, Parallel ,parallel_backend\n",
    "\n",
    "def function_name(i):\n",
    "    time.sleep(2)\n",
    "    return\n",
    "\n",
    "t0 = time.time()\n",
    "\n",
    "for i in range(30):\n",
    "    output= function_name(i)\n",
    "\n",
    "t1 = time.time()\n",
    "\n",
    "print(f'Execution time {t1 - t0} s using 1 cpu')"
   ]
  },
  {
   "cell_type": "code",
   "execution_count": null,
   "id": "a4975e0d-c39a-4b74-8080-684aa0184d23",
   "metadata": {},
   "outputs": [],
   "source": []
  }
 ],
 "metadata": {
  "kernelspec": {
   "display_name": "Python(TorchANI)",
   "language": "python",
   "name": "torchani"
  },
  "language_info": {
   "codemirror_mode": {
    "name": "ipython",
    "version": 3
   },
   "file_extension": ".py",
   "mimetype": "text/x-python",
   "name": "python",
   "nbconvert_exporter": "python",
   "pygments_lexer": "ipython3",
   "version": "3.10.8"
  }
 },
 "nbformat": 4,
 "nbformat_minor": 5
}
